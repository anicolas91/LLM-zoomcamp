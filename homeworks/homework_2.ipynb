{
 "cells": [
  {
   "cell_type": "markdown",
   "id": "267fc80c",
   "metadata": {},
   "source": [
    "# HOMEWORK 2\n",
    "Qdrant uses fastembed under the hood to turn text into vectors.\n",
    "\n",
    "We will now explore this library\n",
    "\n",
    "Make sure it's installed:\n",
    "\n",
    "`pip install fastembed`"
   ]
  },
  {
   "cell_type": "markdown",
   "id": "7c1c97b5",
   "metadata": {},
   "source": [
    "## Q1. Embedding the query\n",
    "Embed the query: 'I just discovered the course. Can I join now?'. Use the 'jinaai/jina-embeddings-v2-small-en' model.\n",
    "\n",
    "You should get a numpy array of size 512.\n",
    "\n",
    "What's the minimal value in this array?\n",
    "\n",
    "- -0.51\n",
    "- -0.11\n",
    "- 0\n",
    "- 0.51"
   ]
  },
  {
   "cell_type": "code",
   "execution_count": 1,
   "id": "a4499811",
   "metadata": {},
   "outputs": [
    {
     "name": "stderr",
     "output_type": "stream",
     "text": [
      "/Users/anicol11/ASU Dropbox/Andrea Nicolas Flores/Mac/Documents/projects/LLM-zoomcamp/.venv/lib/python3.13/site-packages/tqdm/auto.py:21: TqdmWarning: IProgress not found. Please update jupyter and ipywidgets. See https://ipywidgets.readthedocs.io/en/stable/user_install.html\n",
      "  from .autonotebook import tqdm as notebook_tqdm\n"
     ]
    }
   ],
   "source": [
    "from fastembed import TextEmbedding"
   ]
  },
  {
   "cell_type": "code",
   "execution_count": 2,
   "id": "4abb846f",
   "metadata": {},
   "outputs": [],
   "source": [
    "# set up embedding model\n",
    "model_name = 'jinaai/jina-embeddings-v2-small-en'\n",
    "model  = TextEmbedding(model_name=model_name)\n"
   ]
  },
  {
   "cell_type": "code",
   "execution_count": 3,
   "id": "9d1d5e1d",
   "metadata": {},
   "outputs": [],
   "source": [
    "# embed a query and find out the length\n",
    "query = 'I just discovered the course. Can I join now?'\n",
    "\n",
    "\n",
    "# `embed` returns a generator, so convert it to a list to access the embedding\n",
    "embedding = list(model.embed([query]))[0] # this is a np array"
   ]
  },
  {
   "cell_type": "code",
   "execution_count": 4,
   "id": "718e8000",
   "metadata": {},
   "outputs": [
    {
     "name": "stdout",
     "output_type": "stream",
     "text": [
      "min value is: -0.12\n"
     ]
    }
   ],
   "source": [
    "print(f\"min value is: {embedding.min():.2f}\")"
   ]
  },
  {
   "cell_type": "markdown",
   "id": "4285b755",
   "metadata": {},
   "source": [
    "## A1\n",
    "minimum value on the embedding is -0.12, so we grab -0.11"
   ]
  },
  {
   "cell_type": "markdown",
   "id": "1ab421f7",
   "metadata": {},
   "source": [
    "## Cosine similarity\n",
    "The vectors that our embedding model returns are already normalized: their length is 1.0.\n",
    "\n",
    "You can check that by using the norm function:\n",
    "\n",
    "```bash\n",
    "import numpy as np\n",
    "np.linalg.norm(q)\n",
    "```\n",
    "Which means that we can simply compute the dot product between two vectors to learn the cosine similarity between them.\n",
    "\n",
    "For example, if you compute the cosine of the query vector with itself, the result will be 1.0:\n",
    "\n",
    "```bash\n",
    "q.dot(q)\n",
    "```\n",
    "\n",
    "## Q2. Cosine similarity with another vector\n",
    "Now let's embed this document:\n",
    "\n",
    "`doc = 'Can I still join the course after the start date?'`\n",
    "\n",
    "What's the cosine similarity between the vector for the query and the vector for the document?\n",
    "\n",
    "- 0.3\n",
    "- 0.5\n",
    "- 0.7\n",
    "- 0.9"
   ]
  },
  {
   "cell_type": "code",
   "execution_count": 5,
   "id": "ad38e357",
   "metadata": {},
   "outputs": [],
   "source": [
    "import numpy as np"
   ]
  },
  {
   "cell_type": "code",
   "execution_count": 6,
   "id": "0d25074f",
   "metadata": {},
   "outputs": [],
   "source": [
    "# embed a query and find out the length\n",
    "query_2 = 'Can I still join the course after the start date?'\n",
    "embedding_2 = list(model.embed([query_2]))[0] # this is a np array\n"
   ]
  },
  {
   "cell_type": "code",
   "execution_count": 7,
   "id": "da2b9db2",
   "metadata": {},
   "outputs": [
    {
     "name": "stdout",
     "output_type": "stream",
     "text": [
      "cosine similarity: 0.90\n"
     ]
    }
   ],
   "source": [
    "# calculate dot product \n",
    "cosine_similarity = embedding.dot(embedding_2)\n",
    "print(f\"cosine similarity: {cosine_similarity:.2f}\")"
   ]
  },
  {
   "cell_type": "markdown",
   "id": "2d672fbb",
   "metadata": {},
   "source": [
    "## A2. \n",
    "\n",
    "Cosine similarity is 0.90"
   ]
  },
  {
   "cell_type": "markdown",
   "id": "9f97dce2",
   "metadata": {},
   "source": [
    "## Q3. Ranking by cosine\n",
    "For Q3 and Q4 we will use these documents:\n"
   ]
  },
  {
   "cell_type": "code",
   "execution_count": 8,
   "id": "28321da1",
   "metadata": {},
   "outputs": [],
   "source": [
    "\n",
    "documents = [{'text': \"Yes, even if you don't register, you're still eligible to submit the homeworks.\\nBe aware, however, that there will be deadlines for turning in the final projects. So don't leave everything for the last minute.\",\n",
    "  'section': 'General course-related questions',\n",
    "  'question': 'Course - Can I still join the course after the start date?',\n",
    "  'course': 'data-engineering-zoomcamp'},\n",
    " {'text': 'Yes, we will keep all the materials after the course finishes, so you can follow the course at your own pace after it finishes.\\nYou can also continue looking at the homeworks and continue preparing for the next cohort. I guess you can also start working on your final capstone project.',\n",
    "  'section': 'General course-related questions',\n",
    "  'question': 'Course - Can I follow the course after it finishes?',\n",
    "  'course': 'data-engineering-zoomcamp'},\n",
    " {'text': \"The purpose of this document is to capture frequently asked technical questions\\nThe exact day and hour of the course will be 15th Jan 2024 at 17h00. The course will start with the first  “Office Hours'' live.1\\nSubscribe to course public Google Calendar (it works from Desktop only).\\nRegister before the course starts using this link.\\nJoin the course Telegram channel with announcements.\\nDon’t forget to register in DataTalks.Club's Slack and join the channel.\",\n",
    "  'section': 'General course-related questions',\n",
    "  'question': 'Course - When will the course start?',\n",
    "  'course': 'data-engineering-zoomcamp'},\n",
    " {'text': 'You can start by installing and setting up all the dependencies and requirements:\\nGoogle cloud account\\nGoogle Cloud SDK\\nPython 3 (installed with Anaconda)\\nTerraform\\nGit\\nLook over the prerequisites and syllabus to see if you are comfortable with these subjects.',\n",
    "  'section': 'General course-related questions',\n",
    "  'question': 'Course - What can I do before the course starts?',\n",
    "  'course': 'data-engineering-zoomcamp'},\n",
    " {'text': 'Star the repo! Share it with friends if you find it useful ❣️\\nCreate a PR if you see you can improve the text or the structure of the repository.',\n",
    "  'section': 'General course-related questions',\n",
    "  'question': 'How can we contribute to the course?',\n",
    "  'course': 'data-engineering-zoomcamp'}]"
   ]
  },
  {
   "cell_type": "markdown",
   "id": "4bb985be",
   "metadata": {},
   "source": [
    "Compute the embeddings for the text field, and compute the cosine between the query vector and all the documents.\n",
    "\n",
    "What's the document index with the highest similarity? (Indexing starts from 0):\n",
    "\n",
    "- 0\n",
    "- 1\n",
    "- 2\n",
    "- 3\n",
    "- 4\n",
    "\n",
    "Hint: if you put all the embeddings of the text field in one matrix V (a single 2-dimensional numpy array), then computing the cosine becomes a matrix multiplication:"
   ]
  },
  {
   "cell_type": "code",
   "execution_count": 9,
   "id": "2b6e9aa8",
   "metadata": {},
   "outputs": [
    {
     "name": "stdout",
     "output_type": "stream",
     "text": [
      "(5, 512)\n"
     ]
    }
   ],
   "source": [
    "# get the text only and convert to a vector each\n",
    "embedding_docs = []\n",
    "for document in documents:\n",
    "    doc = document['text']\n",
    "    embedding_doc = list(model.embed([doc]))[0] # this is a np array\n",
    "    embedding_docs.append(embedding_doc)\n",
    "\n",
    "# convert list to a matrix\n",
    "embedding_docs = np.stack(embedding_docs)\n",
    "\n",
    "print(embedding_docs.shape)\n"
   ]
  },
  {
   "cell_type": "code",
   "execution_count": 10,
   "id": "89a33d34",
   "metadata": {},
   "outputs": [
    {
     "name": "stdout",
     "output_type": "stream",
     "text": [
      "Highest similarity: 0.82\n",
      "Index of highest similarity: 1\n",
      "[0.76296845 0.81823783 0.80853973 0.71330786 0.73044994]\n"
     ]
    }
   ],
   "source": [
    "# do a dot product between this matrix and the original query one\n",
    "cosine_similarities = embedding_docs.dot(embedding)\n",
    "best_index = np.argmax(cosine_similarities)\n",
    "\n",
    "print(f\"Highest similarity: {cosine_similarities[best_index]:.2f}\")\n",
    "print(f\"Index of highest similarity: {best_index}\")\n",
    "print(cosine_similarities)\n"
   ]
  },
  {
   "cell_type": "markdown",
   "id": "9cd91e2c",
   "metadata": {},
   "source": [
    "## A3.\n",
    "The index of highest similarity was `1`, with a cosine similarity of `0.82`."
   ]
  },
  {
   "cell_type": "markdown",
   "id": "a2af3076",
   "metadata": {},
   "source": [
    "## Q4. Ranking by cosine, version two\n",
    "Now let's calculate a new field, which is a concatenation of question and text:\n",
    "\n",
    "```bash\n",
    "full_text = doc['question'] + ' ' + doc['text']\n",
    "```\n",
    "\n",
    "\n",
    "Embed this field and compute the cosine between it and the query vector. What's the highest scoring document?\n",
    "\n",
    "- 0\n",
    "- 1\n",
    "- 2\n",
    "- 3\n",
    "- 4\n",
    "\n",
    "Is it different from Q3? If yes, why?"
   ]
  },
  {
   "cell_type": "code",
   "execution_count": 11,
   "id": "e7f86fa3",
   "metadata": {},
   "outputs": [
    {
     "name": "stdout",
     "output_type": "stream",
     "text": [
      "(5, 512)\n"
     ]
    }
   ],
   "source": [
    "# get the questions + text and convert to a vector each\n",
    "embedding_docs = []\n",
    "for document in documents:\n",
    "    query_doc = document['question'] + ' ' + document['text']\n",
    "    embedding_doc = list(model.embed([query_doc]))[0] # this is a np array\n",
    "    embedding_docs.append(embedding_doc)\n",
    "\n",
    "# convert list to a matrix\n",
    "embedding_docs = np.stack(embedding_docs)\n",
    "\n",
    "print(embedding_docs.shape)"
   ]
  },
  {
   "cell_type": "code",
   "execution_count": 12,
   "id": "3d0f5195",
   "metadata": {},
   "outputs": [
    {
     "name": "stdout",
     "output_type": "stream",
     "text": [
      "Highest similarity: 0.85\n",
      "Index of highest similarity: 0\n",
      "[0.85145431 0.84365941 0.84082872 0.77551577 0.8086008 ]\n"
     ]
    }
   ],
   "source": [
    "# do a dot product between this matrix and the original query one\n",
    "cosine_similarities = embedding_docs.dot(embedding)\n",
    "best_index = np.argmax(cosine_similarities)\n",
    "\n",
    "print(f\"Highest similarity: {cosine_similarities[best_index]:.2f}\")\n",
    "print(f\"Index of highest similarity: {best_index}\")\n",
    "print(cosine_similarities)"
   ]
  },
  {
   "cell_type": "markdown",
   "id": "730a7b10",
   "metadata": {},
   "source": [
    "## A4.\n",
    "The index of highest similarity was `0`, with a cosine similarity of `0.85`. It makes sense since that question is pretty much a variant of the question `I just discovered the course. Can I join now?`. Adding the text does not really change things. IT is different from Q3 because on that one, we embedded only the description, but the title was actaully the one key bit of info needed."
   ]
  },
  {
   "cell_type": "markdown",
   "id": "8d275a4a",
   "metadata": {},
   "source": [
    "## Q5. Selecting the embedding model\n",
    "Now let's select a smaller embedding model. What's the smallest dimensionality for models in fastembed?\n",
    "\n",
    "- 128\n",
    "- 256\n",
    "- 384\n",
    "- 512"
   ]
  },
  {
   "cell_type": "markdown",
   "id": "c70bda57",
   "metadata": {},
   "source": [
    "## A5.\n",
    "\n",
    "According to their documentation [here](https://qdrant.github.io/fastembed/examples/Supported_Models/#supported-text-embedding-models) their smallest dimensionality is `384`."
   ]
  },
  {
   "cell_type": "markdown",
   "id": "8a4bfa8c",
   "metadata": {},
   "source": [
    "\n",
    "One of these models is `BAAI/bge-small-en`. Let's use it."
   ]
  },
  {
   "cell_type": "markdown",
   "id": "6b54f9ea",
   "metadata": {},
   "source": [
    "## Q6. Indexing with qdrant (2 points)\n",
    "For the last question, we will use more documents.\n",
    "\n",
    "We will select only FAQ records from our ml zoomcamp:"
   ]
  },
  {
   "cell_type": "code",
   "execution_count": 13,
   "id": "50e6ad7f",
   "metadata": {},
   "outputs": [],
   "source": [
    "import requests \n",
    "\n",
    "docs_url = 'https://github.com/alexeygrigorev/llm-rag-workshop/raw/main/notebooks/documents.json'\n",
    "docs_response = requests.get(docs_url)\n",
    "documents_raw = docs_response.json()\n",
    "\n",
    "\n",
    "documents = []\n",
    "\n",
    "for course in documents_raw:\n",
    "    course_name = course['course']\n",
    "    if course_name != 'machine-learning-zoomcamp':\n",
    "        continue\n",
    "\n",
    "    for doc in course['documents']:\n",
    "        doc['course'] = course_name\n",
    "        documents.append(doc)\n"
   ]
  },
  {
   "cell_type": "markdown",
   "id": "6df63a48",
   "metadata": {},
   "source": [
    "Add them to qdrant using the model from Q5.\n",
    "\n",
    "When adding the data, use both question and answer fields:\n",
    "\n",
    "```bash\n",
    "text = doc['question'] + ' ' + doc['text']\n",
    "```\n",
    "\n",
    "After the data is inserted, use the question from Q1 for querying the collection.\n",
    "\n",
    "What's the highest score in the results? (The score for the first returned record):\n",
    "\n",
    "- 0.97\n",
    "- 0.87\n",
    "- 0.77\n",
    "- 0.67"
   ]
  },
  {
   "cell_type": "code",
   "execution_count": 14,
   "id": "88c4fd09",
   "metadata": {},
   "outputs": [],
   "source": [
    "# we are cheating a little bit and we are just using the specific model, straight up here\n",
    "# we shall use quadrant later\n",
    "\n",
    "# set up embedding model\n",
    "model_name = 'BAAI/bge-small-en'\n",
    "model  = TextEmbedding(model_name=model_name)"
   ]
  },
  {
   "cell_type": "code",
   "execution_count": 15,
   "id": "d8f2e5e5",
   "metadata": {},
   "outputs": [],
   "source": [
    "# embed a query and find out the length\n",
    "query = 'I just discovered the course. Can I join now?'\n",
    "\n",
    "\n",
    "# `embed` returns a generator, so convert it to a list to access the embedding\n",
    "embedding = list(model.embed([query]))[0] # this is a np array"
   ]
  },
  {
   "cell_type": "code",
   "execution_count": 16,
   "id": "ab741d7f",
   "metadata": {},
   "outputs": [
    {
     "name": "stdout",
     "output_type": "stream",
     "text": [
      "(375, 384)\n",
      "Highest similarity: 0.87\n",
      "Index of highest similarity: 14\n",
      "[0.8147728  0.8197734  0.80301535 0.7736218  0.8234947  0.8414749\n",
      " 0.8691884  0.79737043 0.80610526 0.8455939  0.78400755 0.83213025\n",
      " 0.7650218  0.8683312  0.8703173  0.82244146 0.7965847  0.857154\n",
      " 0.834791   0.7781333  0.8210681  0.79621434 0.8034544  0.77217543\n",
      " 0.7377288  0.72783285 0.7611208  0.7685133  0.68989664 0.771853\n",
      " 0.7180948  0.756606   0.76177716 0.749992   0.7433283  0.77547944\n",
      " 0.70923704 0.69377816 0.7284203  0.7256007  0.6805362  0.71082664\n",
      " 0.7001067  0.7400493  0.7889377  0.71736807 0.7712903  0.7459129\n",
      " 0.75641924 0.72377646 0.8195713  0.7361079  0.74429923 0.7656276\n",
      " 0.7213968  0.7175728  0.73007864 0.73602295 0.7265439  0.7624037\n",
      " 0.754902   0.8058157  0.81823945 0.7417751  0.72125655 0.7388073\n",
      " 0.7413675  0.7293712  0.7775129  0.7324535  0.7208928  0.7263732\n",
      " 0.69528395 0.6863812  0.6722955  0.7165996  0.76008093 0.70321953\n",
      " 0.68104416 0.6858498  0.7549139  0.7041918  0.7169024  0.7796075\n",
      " 0.78178513 0.7574625  0.8036832  0.8010141  0.7438404  0.7391565\n",
      " 0.77257824 0.7066054  0.74692535 0.777235   0.7347918  0.73033077\n",
      " 0.74029964 0.7204679  0.7013459  0.75425607 0.74915457 0.7194499\n",
      " 0.71719617 0.7061846  0.75528336 0.76076466 0.7548625  0.692785\n",
      " 0.7323491  0.74793184 0.73801184 0.707878   0.76471436 0.74565697\n",
      " 0.69711107 0.788683   0.75360644 0.720003   0.7513397  0.734676\n",
      " 0.73499125 0.74748456 0.7970849  0.7531176  0.7312584  0.7340222\n",
      " 0.7673067  0.775303   0.7458001  0.81434464 0.7847165  0.77295995\n",
      " 0.77243453 0.71923184 0.79928786 0.7550545  0.7352436  0.71635735\n",
      " 0.7432699  0.72063243 0.797777   0.73839784 0.72280645 0.7302722\n",
      " 0.722704   0.73139405 0.72916174 0.72132075 0.7413241  0.72032416\n",
      " 0.7140108  0.7486582  0.79647386 0.7756596  0.7723253  0.7483125\n",
      " 0.75039613 0.7506795  0.7441152  0.7454273  0.7686435  0.76360637\n",
      " 0.76863474 0.7347076  0.72417974 0.7383724  0.75075    0.72763604\n",
      " 0.72550565 0.7345482  0.732727   0.7569458  0.74514276 0.7528027\n",
      " 0.7531158  0.7543695  0.7749487  0.77739626 0.7612531  0.7206104\n",
      " 0.7547399  0.74078894 0.763514   0.7266268  0.74684614 0.7554986\n",
      " 0.761978   0.7589835  0.7884451  0.7672782  0.73425585 0.7520906\n",
      " 0.769918   0.7841858  0.7608621  0.73076236 0.7570989  0.7890759\n",
      " 0.7491961  0.7670038  0.72827345 0.7305261  0.75300145 0.7264206\n",
      " 0.7866368  0.75652844 0.73256683 0.75763315 0.7744379  0.753953\n",
      " 0.7283072  0.7350306  0.71901643 0.7260729  0.784906   0.7448808\n",
      " 0.74271    0.7746813  0.75366324 0.789171   0.7536261  0.72082585\n",
      " 0.7741446  0.7472708  0.71411526 0.7584681  0.7197503  0.76981217\n",
      " 0.75349367 0.75793254 0.7505213  0.85681665 0.767087   0.7698343\n",
      " 0.75746906 0.74391925 0.75987136 0.74109066 0.73984027 0.7717457\n",
      " 0.76522195 0.78117114 0.74389803 0.7499708  0.7405965  0.7060358\n",
      " 0.74957454 0.7555623  0.7443832  0.8028198  0.75675184 0.75603986\n",
      " 0.75334513 0.751742   0.75155616 0.74491173 0.75305367 0.7506151\n",
      " 0.73928595 0.73100716 0.7474649  0.7322369  0.85447836 0.7850225\n",
      " 0.73527485 0.7584509  0.76274824 0.7609516  0.75893444 0.7648717\n",
      " 0.7560013  0.7667194  0.7479925  0.75326204 0.75894284 0.70763266\n",
      " 0.7356604  0.7264433  0.7434814  0.7846832  0.76336807 0.76069367\n",
      " 0.72500557 0.74846065 0.7342345  0.7648634  0.79038745 0.77792186\n",
      " 0.7530439  0.763884   0.7402936  0.76160455 0.7501019  0.8576106\n",
      " 0.73573506 0.7146247  0.75549763 0.75343513 0.7571629  0.75188816\n",
      " 0.776706   0.7717635  0.7090336  0.7729459  0.7454557  0.7401899\n",
      " 0.7140737  0.75103676 0.7288851  0.7482867  0.7623886  0.73126984\n",
      " 0.7766929  0.75606954 0.74954104 0.7728796  0.76159453 0.77649784\n",
      " 0.7479676  0.7227373  0.802475   0.7746924  0.80551887 0.80128294\n",
      " 0.7896268  0.76929176 0.7534199  0.8115556  0.74001336 0.80809504\n",
      " 0.81610054 0.7742098  0.7461748  0.79776776 0.7683161  0.76756305\n",
      " 0.7550818  0.77678335 0.7643718  0.7435884  0.7515013  0.71255016\n",
      " 0.75601095 0.7457888  0.77491224 0.7392223  0.76224357 0.7402375\n",
      " 0.7624301  0.7505425  0.74263304 0.76810914 0.72213185 0.73788357\n",
      " 0.7610643  0.7130097  0.7471855  0.71905917 0.74362016 0.77571094\n",
      " 0.70536923 0.79025924 0.80168587 0.78402275 0.75200045 0.75893855\n",
      " 0.7656446  0.75080836 0.7450514  0.7350319  0.70801723 0.80913436\n",
      " 0.81099546 0.76964194 0.8067651 ]\n"
     ]
    }
   ],
   "source": [
    "# get the questions + text and convert to a vector each\n",
    "embedding_docs = []\n",
    "for document in documents:\n",
    "    query_doc = document['question'] + ' ' + document['text']\n",
    "    embedding_doc = list(model.embed([query_doc]))[0] # this is a np array\n",
    "    embedding_docs.append(embedding_doc)\n",
    "\n",
    "# convert list to a matrix\n",
    "embedding_docs = np.stack(embedding_docs)\n",
    "\n",
    "print(embedding_docs.shape)\n",
    "\n",
    "# do a dot product between this matrix and the original query one\n",
    "cosine_similarities = embedding_docs.dot(embedding)\n",
    "best_index = np.argmax(cosine_similarities)\n",
    "\n",
    "print(f\"Highest similarity: {cosine_similarities[best_index]:.2f}\")\n",
    "print(f\"Index of highest similarity: {best_index}\")\n",
    "print(cosine_similarities)"
   ]
  },
  {
   "cell_type": "code",
   "execution_count": 17,
   "id": "18de6b06",
   "metadata": {},
   "outputs": [
    {
     "data": {
      "text/plain": [
       "{'text': 'Yes, you can. You won’t be able to submit some of the homeworks, but you can still take part in the course.\\nIn order to get a certificate, you need to submit 2 out of 3 course projects and review 3 peers’ Projects by the deadline. It means that if you join the course at the end of November and manage to work on two projects, you will still be eligible for a certificate.',\n",
       " 'section': 'General course-related questions',\n",
       " 'question': 'The course has already started. Can I still join it?',\n",
       " 'course': 'machine-learning-zoomcamp'}"
      ]
     },
     "execution_count": 17,
     "metadata": {},
     "output_type": "execute_result"
    }
   ],
   "source": [
    "documents[best_index]"
   ]
  },
  {
   "cell_type": "markdown",
   "id": "55d747c9",
   "metadata": {},
   "source": [
    "## A6.\n",
    "\n",
    "We used the smaller embedding model and just did the vector match here on python.\n",
    "\n",
    "We found that the best match has a cosine similarity of `0.87` and it is for index 14 which relates to the question `The course has already started. Can I still join it?`."
   ]
  }
 ],
 "metadata": {
  "kernelspec": {
   "display_name": ".venv",
   "language": "python",
   "name": "python3"
  },
  "language_info": {
   "codemirror_mode": {
    "name": "ipython",
    "version": 3
   },
   "file_extension": ".py",
   "mimetype": "text/x-python",
   "name": "python",
   "nbconvert_exporter": "python",
   "pygments_lexer": "ipython3",
   "version": "3.13.2"
  }
 },
 "nbformat": 4,
 "nbformat_minor": 5
}
