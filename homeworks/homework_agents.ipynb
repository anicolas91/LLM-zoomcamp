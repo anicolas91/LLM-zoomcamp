{
 "cells": [
  {
   "cell_type": "markdown",
   "id": "b9fde80d",
   "metadata": {},
   "source": [
    "## Agents: extra section HW"
   ]
  },
  {
   "cell_type": "markdown",
   "id": "d1d3a870",
   "metadata": {},
   "source": [
    "### Preparation\n",
    "First, we'll define a function that we will use when building our agent.\n",
    "\n",
    "It will generate fake weather data:"
   ]
  },
  {
   "cell_type": "code",
   "execution_count": null,
   "id": "f32c82b7",
   "metadata": {},
   "outputs": [],
   "source": [
    "import random\n",
    "\n",
    "known_weather_data = {\n",
    "    'berlin': 20.0\n",
    "}\n",
    "\n",
    "def get_weather(city: str) -> float:\n",
    "    city = city.strip().lower()\n",
    "\n",
    "    if city in known_weather_data:\n",
    "        return known_weather_data[city]\n",
    "\n",
    "    return round(random.uniform(-5, 35), 1)"
   ]
  },
  {
   "cell_type": "markdown",
   "id": "77b4ea0e",
   "metadata": {},
   "source": [
    "### Q1. Define function description\n",
    "We want to use it as a tool for our agent, so we need to describe it\n",
    "\n",
    "How should the description for this function look like? Fill in missing parts"
   ]
  },
  {
   "cell_type": "code",
   "execution_count": 12,
   "id": "a0fbdb43",
   "metadata": {},
   "outputs": [],
   "source": [
    "TODO1 = \"weather-tool\"\n",
    "TODO2 = \"This tool gets the weather at a specified location\"\n",
    "TODO3 = \"query\"\n",
    "TODO4 = \"For a specific location, and unless otherwise stated, the current date and time, look up the weather\"\n",
    "TODO5 = TODO3\n",
    "\n",
    "get_weather_tool = {\n",
    "    \"type\": \"function\",\n",
    "    \"name\": TODO1,\n",
    "    \"description\": TODO2,\n",
    "    \"parameters\": {\n",
    "        \"type\": \"object\",\n",
    "        \"properties\": {\n",
    "            TODO3: {\n",
    "                \"type\": \"string\",\n",
    "                \"description\": TODO4\n",
    "            }\n",
    "        },\n",
    "        \"required\": [TODO5],\n",
    "        \"additionalProperties\": False\n",
    "    }\n",
    "}"
   ]
  },
  {
   "cell_type": "markdown",
   "id": "12a1171e",
   "metadata": {},
   "source": [
    "What did you put in TODO3?\n",
    "\n",
    "### A1: See below"
   ]
  },
  {
   "cell_type": "code",
   "execution_count": null,
   "id": "a0d269c4",
   "metadata": {},
   "outputs": [
    {
     "name": "stdout",
     "output_type": "stream",
     "text": [
      "{\n",
      "  \"type\": \"function\",\n",
      "  \"name\": \"weather-tool\",\n",
      "  \"description\": \"This tool gets the weather at a specified location\",\n",
      "  \"parameters\": {\n",
      "    \"type\": \"object\",\n",
      "    \"properties\": {\n",
      "      \"query\": {\n",
      "        \"type\": \"string\",\n",
      "        \"description\": \"For a specific location, and unless otherwise stated, the current date and time, look up the weather\"\n",
      "      }\n",
      "    },\n",
      "    \"required\": [\n",
      "      \"query\"\n",
      "    ],\n",
      "    \"additionalProperties\": false\n",
      "  }\n",
      "}\n"
     ]
    }
   ],
   "source": [
    "import json\n",
    "print(json.dumps(get_weather_tool,indent=2))"
   ]
  },
  {
   "cell_type": "markdown",
   "id": "3c9ba6f0",
   "metadata": {},
   "source": [
    "### Q2. Adding another tool\n",
    "\n",
    "Let's add another tool - a function that can add weather data to our database:"
   ]
  },
  {
   "cell_type": "code",
   "execution_count": null,
   "id": "dcbfe2e0",
   "metadata": {},
   "outputs": [],
   "source": [
    "def set_weather(city: str, temp: float) -> None:\n",
    "    \"\"\"\n",
    "    Stores or updates the temperature for a given city in the known_weather_data dictionary.\n",
    "\n",
    "    Args:\n",
    "        city (str): Name of the city (case-insensitive, leading/trailing spaces will be removed).\n",
    "        temp (float): Temperature value (in degrees, assumed to be Celsius or Fahrenheit depending on context).\n",
    "\n",
    "    Returns:\n",
    "        str: Confirmation string \"OK\" indicating successful update.\n",
    "    \"\"\"\n",
    "    city = city.strip().lower()\n",
    "    known_weather_data[city] = temp\n",
    "    return \"OK\"\n"
   ]
  },
  {
   "cell_type": "markdown",
   "id": "09d27fad",
   "metadata": {},
   "source": [
    "Now let's write a description for it.\n",
    "\n",
    "What did you write?\n",
    "\n",
    "## A2. We wrote the following:\n",
    "```bash\n",
    "\n",
    "\"\"\"\n",
    "    Stores or updates the temperature for a given city in the known_weather_data dictionary.\n",
    "\n",
    "    Args:\n",
    "        city (str): Name of the city (case-insensitive, leading/trailing spaces will be removed).\n",
    "        temp (float): Temperature value (in degrees, assumed to be Celsius or Fahrenheit depending on context).\n",
    "\n",
    "    Returns:\n",
    "        str: Confirmation string \"OK\" indicating successful update.\n",
    "    \"\"\"\n",
    "```\n",
    "\n",
    "Optionally, you can test it after adding this function.\n",
    "\n",
    "### MCP\n",
    "MCP stands for Model-Context Protocol. It allows LLMs communicate with different tools (like Qdrant). It's function calling, but one step further:\n",
    "\n",
    "A tool can export a list of functions it has\n",
    "When we include the tool to our Agent, we just need to include the link to the MCP server\n"
   ]
  },
  {
   "cell_type": "markdown",
   "id": "c650ca85",
   "metadata": {},
   "source": [
    "### Q3. Install FastMCP\n",
    "Let's install a library for MCP - FastMCP:\n",
    "\n",
    "```bash\n",
    "pip install fastmcp\n",
    "```\n",
    "\n",
    "What's the version of FastMCP you installed?\n",
    "\n",
    "### A3. `2.10.5`"
   ]
  },
  {
   "cell_type": "code",
   "execution_count": 1,
   "id": "a135fa57",
   "metadata": {},
   "outputs": [
    {
     "name": "stdout",
     "output_type": "stream",
     "text": [
      "2.10.5\n"
     ]
    }
   ],
   "source": [
    "import fastmcp\n",
    "print(fastmcp.__version__)\n"
   ]
  },
  {
   "cell_type": "markdown",
   "id": "70eadbc0",
   "metadata": {},
   "source": [
    "### Q4. Simple MCP Server\n",
    "A simple MCP server from the documentation looks like that:"
   ]
  },
  {
   "cell_type": "markdown",
   "id": "9c914c30",
   "metadata": {},
   "source": [
    "```bash\n",
    "# weather_server.py\n",
    "from fastmcp import FastMCP\n",
    "\n",
    "mcp = FastMCP(\"Demo 🚀\")\n",
    "\n",
    "@mcp.tool\n",
    "def add(a: int, b: int) -> int:\n",
    "    \"\"\"Add two numbers\"\"\"\n",
    "    return a + b\n",
    "\n",
    "if __name__ == \"__main__\":\n",
    "    mcp.run()\n",
    "```"
   ]
  },
  {
   "cell_type": "markdown",
   "id": "60e1f190",
   "metadata": {},
   "source": [
    "In our case, we need to write docstrings for our functions.\n",
    "\n",
    "Let's ask ChatGPT for help:"
   ]
  },
  {
   "cell_type": "code",
   "execution_count": null,
   "id": "aff2c7ba",
   "metadata": {},
   "outputs": [],
   "source": [
    "def get_weather(city: str) -> float:\n",
    "    \"\"\"\n",
    "    Retrieves the temperature for a specified city.\n",
    "\n",
    "    Parameters:\n",
    "        city (str): The name of the city for which to retrieve weather data.\n",
    "\n",
    "    Returns:\n",
    "        float: The temperature associated with the city.\n",
    "    \"\"\"\n",
    "    city = city.strip().lower()\n",
    "\n",
    "    if city in known_weather_data:\n",
    "        return known_weather_data[city]\n",
    "\n",
    "    return round(random.uniform(-5, 35), 1)\n",
    "\n",
    "\n",
    "def set_weather(city: str, temp: float) -> None:\n",
    "    \"\"\"\n",
    "    Sets the temperature for a specified city.\n",
    "\n",
    "    Parameters:\n",
    "        city (str): The name of the city for which to set the weather data.\n",
    "        temp (float): The temperature to associate with the city.\n",
    "\n",
    "    Returns:\n",
    "        str: A confirmation string 'OK' indicating successful update.\n",
    "    \"\"\"\n",
    "    city = city.strip().lower()\n",
    "    known_weather_data[city] = temp\n",
    "    return 'OK'"
   ]
  },
  {
   "cell_type": "markdown",
   "id": "1136131f",
   "metadata": {},
   "source": [
    "Let's change the example for our case and run it\n",
    "\n",
    "What do you see in the output?\n",
    "\n",
    "Look for a string that matches this template:\n",
    "\n",
    "```bash\n",
    "Starting MCP server 'Demo 🚀' with transport '<TODO>'\n",
    "```\n",
    "\n",
    "### A4: We edited the base code and saved it onto weather_server.py. After running:\n",
    "\n",
    "```bash\n",
    "python ./homeworks/weather_server.py\n",
    "```\n",
    "\n",
    "We get: Starting MCP server 'Demo 🚀' with transport `'stdio'`"
   ]
  },
  {
   "cell_type": "markdown",
   "id": "f8b7d749",
   "metadata": {},
   "source": [
    "### Q5. Protocol\n",
    "There are different ways to communicate with an MCP server. Ours is currently running using standart input/output, which means that the client write something to stdin and read the answer using stdout.\n",
    "\n",
    "Our weather server is currently running.\n",
    "\n",
    "This is how we start communitcating with it:\n",
    "\n",
    "- First, we send an initialization request -- this way, we register our client with the server:\n",
    "\n",
    "```bash\n",
    "{\"jsonrpc\": \"2.0\", \"id\": 1, \"method\": \"initialize\", \"params\": {\"protocolVersion\": \"2024-11-05\", \"capabilities\": {\"roots\": {\"listChanged\": true}, \"sampling\": {}}, \"clientInfo\": {\"name\": \"test-client\", \"version\": \"1.0.0\"}}}\n",
    "```\n",
    "\n",
    "- We should get back something like that, which is an aknowledgement of the request:\n",
    "\n",
    "```bash\n",
    "{\"jsonrpc\":\"2.0\",\"id\":1,\"result\":{\"protocolVersion\":\"2024-11-05\",\"capabilities\":{\"experimental\":{},\"prompts\":{\"listChanged\":false},\"resources\":{\"subscribe\":false,\"listChanged\":false},\"tools\":{\"listChanged\":true}},\"serverInfo\":{\"name\":\"Demo 🚀\",\"version\":\"1.9.4\"}}}\n",
    "```\n",
    "\n",
    "- Next, we reply back, confirming the initialization:\n",
    "```bash\n",
    "{\"jsonrpc\": \"2.0\", \"method\": \"notifications/initialized\"}\n",
    "```\n",
    "\n",
    "We don't expect to get anything in response\n",
    "- Now we can ask for a list of available methods:\n",
    "```bash\n",
    "{\"jsonrpc\": \"2.0\", \"id\": 2, \"method\": \"tools/list\"}\n",
    "```\n",
    "\n",
    "- Let's ask the temperature in Berlin:\n",
    "```bash\n",
    "{\"jsonrpc\": \"2.0\", \"id\": 3, \"method\": \"tools/call\", \"params\": {\"name\": \"get_weather\", \"arguments\": {\"city\": \"Berlin\"}}}\n",
    "```"
   ]
  },
  {
   "cell_type": "markdown",
   "id": "8ca62975",
   "metadata": {},
   "source": [
    "### A5. We get a random number, like 21.1C"
   ]
  },
  {
   "cell_type": "markdown",
   "id": "b6956777",
   "metadata": {},
   "source": [
    "### Q6. Client\n",
    "We typically don't interact with the server by copy-pasting commands in the terminal.\n",
    "\n",
    "In practice, we use an MCP Client. Let's implement it.\n",
    "\n",
    "FastMCP also supports MCP clients:\n",
    "\n",
    "```bash\n",
    "from fastmcp import Client\n",
    "\n",
    "async def main():\n",
    "    async with Client(<TODO>) as mcp_client:\n",
    "        # TODO\n",
    "```"
   ]
  },
  {
   "cell_type": "markdown",
   "id": "26120050",
   "metadata": {},
   "source": [
    "Use the client to get the list of available tools of our script. How does the result look like?\n",
    "\n",
    "If you're running this code in Jupyter, you need to pass an instance of MCP server to the Client:\n",
    "\n",
    "```bash\n",
    "import weather_server\n",
    "\n",
    "async def main():\n",
    "    async with Client(weather_server.mcp) as mcp_client:\n",
    "        # ....\n",
    "```bash\n",
    "\n",
    "If you run it in a script, you will need to use asyncio:\n",
    "\n",
    "```bash\n",
    "import asyncio\n",
    "\n",
    "async def main():\n",
    "    async with Client(\"weather_server.py\") as mcp_client:\n",
    "        # ...\n",
    "\n",
    "if __name__ == \"__main__\":\n",
    "    test = asyncio.run(main())\n",
    "\n",
    "```\n",
    "\n",
    "Copy the output with the available tools when filling in the homework form."
   ]
  },
  {
   "cell_type": "code",
   "execution_count": 9,
   "id": "664aef4e",
   "metadata": {},
   "outputs": [
    {
     "name": "stdout",
     "output_type": "stream",
     "text": [
      "Available tools:\n",
      "[Tool(name='get_weather', title=None, description='Retrieves the temperature for a specified city.\\n\\nParameters:\\n    city (str): The name of the city for which to retrieve weather data.\\n\\nReturns:\\n    float: The temperature associated with the city.', inputSchema={'properties': {'city': {'title': 'City', 'type': 'string'}}, 'required': ['city'], 'type': 'object'}, outputSchema={'properties': {'result': {'title': 'Result', 'type': 'number'}}, 'required': ['result'], 'title': '_WrappedResult', 'type': 'object', 'x-fastmcp-wrap-result': True}, annotations=None, meta=None), Tool(name='set_weather', title=None, description=\"Sets the temperature for a specified city.\\n\\nParameters:\\n    city (str): The name of the city for which to set the weather data.\\n    temp (float): The temperature to associate with the city.\\n\\nReturns:\\n    str: A confirmation string 'OK' indicating successful update.\", inputSchema={'properties': {'city': {'title': 'City', 'type': 'string'}, 'temp': {'title': 'Temp', 'type': 'number'}}, 'required': ['city', 'temp'], 'type': 'object'}, outputSchema=None, annotations=None, meta=None)]\n"
     ]
    }
   ],
   "source": [
    "import nest_asyncio\n",
    "import asyncio\n",
    "from fastmcp import Client\n",
    "\n",
    "nest_asyncio.apply()\n",
    "\n",
    "async def run_mcp_client():\n",
    "    async with Client(\"http://localhost:8765/mcp\") as mcp_client:\n",
    "        # get the list of tools\n",
    "        tools = await mcp_client.list_tools()\n",
    "        print(\"Available tools:\")\n",
    "        print(tools)\n",
    "        # for tool in tools:\n",
    "        #     print(f\"- {tool['name']}: {tool.get('description', '')}\")\n",
    "        \n",
    "        # # Set the weather\n",
    "        # set_result = await mcp_client.call_tool(\"set_weather\", {\"city\": \"Berlin\", \"temp\": 22.5})\n",
    "        # print(\"Set result:\", set_result)\n",
    "\n",
    "        # # Get the weather\n",
    "        # get_result = await mcp_client.call_tool(\"get_weather\", {\"city\": \"Berlin\"})\n",
    "        # print(\"Weather in Berlin:\", get_result)\n",
    "\n",
    "await run_mcp_client()\n"
   ]
  },
  {
   "cell_type": "markdown",
   "id": "ccd40786",
   "metadata": {},
   "source": []
  }
 ],
 "metadata": {
  "kernelspec": {
   "display_name": ".venv",
   "language": "python",
   "name": "python3"
  },
  "language_info": {
   "codemirror_mode": {
    "name": "ipython",
    "version": 3
   },
   "file_extension": ".py",
   "mimetype": "text/x-python",
   "name": "python",
   "nbconvert_exporter": "python",
   "pygments_lexer": "ipython3",
   "version": "3.13.2"
  }
 },
 "nbformat": 4,
 "nbformat_minor": 5
}
